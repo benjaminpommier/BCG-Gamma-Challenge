{
 "cells": [
  {
   "cell_type": "markdown",
   "metadata": {},
   "source": [
    "# Description\n",
    "\n",
    "Notebook 2/2 du groupe 6 (Achille, Benjamin, Chedha, Hubert, Victor)\n",
    "\n",
    "**2_Churn_features** est un notebook qui entraine un modèle de machine learning pour prévenir le risque qu'un client soit un churner à partir de son comportement passé.\n",
    "\n",
    "### Labélisation d'un churner\n",
    "\n",
    "Il existe de nombreuses façons de définir un churner, nous avons pris l'une d'entre elles qui nous paraissait judicieuse pour notre dataset: Il s'agit de signaler un client comme churner si le nombre de jours écoulés depuis son dernier achat est supérieur à la différence du temps maximal entre ses achats précédents.\n",
    "\n",
    "Cette définition permet d'éviter de compter comme faux positifs tous nos clients dès qu'il y a des périodes de vacances ou des périodes de creux temporaires dans leur activité.\n",
    "\n",
    "### Entrainement du modèle\n",
    "\n",
    "Nous nous servons des 3 derniers mois de transaction pour vérifier si certains clients ont effectivement churnés en appliquant notre règle de churn sur des données futures. Nous avons choisi 3 mois car 95% des clients ont une fréquence d'achat inférieure à 3 mois.\n",
    "\n",
    "Chaque client est alors caractérisé par un vecteur qui contient un résumé compact des transactions qu'il a réalisé avant les trois derniers mois. **Aucune donnée temporelle fixe n'est donnée au modèle, tous les achats ont des informations temporelles relatives entre eux**. Ainsi, un client ayant churné depuis plus d'un an et un client venant juste de churner sont aussi difficile à entrainer pour le modèle car l'information temporelle fixe est cachée. Cela permet de forcer le modèle à détecter les caractéristiques clefs responsables du churn sans apprendre bêtement que, si la date du dernier achat d'un client est supérieure à 4 mois, alors il est churner. Dans les cas faciles, simplement appliquer la règle du churn par rapport à la date du jour actuel est suffisant.\n",
    "\n",
    "### Utilisation\n",
    "\n",
    "Pour un client donné, en fonction de la date du jour, il est possible de savoir s'il est churner en utilisant la règle du churn.\n",
    "- Si le client est churner, c'est un peu tard pour faire une action commerciale pour le récupérer.\n",
    "- Si le client n'est a priori pas churner, on applique notre modèle de machine learning pour analyser son comportement d'achat passé et prédire si ce comportement va l'amenner à churner à son prochain achat ou non. Dans le cas où la probabilité de churn est élevée, il est possible de faire une action commerciale ou marketing pour espérer ne pas perdre ce client.\n",
    "\n",
    "### Résultats:\n",
    "\n",
    "Notre modèle a un F-1 score de 75%, 77% des clients prédit churner étaient effectivement churner (précision), et 72% des churners ont été repérés (recall). \n",
    "\n",
    "En 2 ans, **notre modèle aurait repéré 40000 des 56000 churners**. En supposant que la moitié d'entre eux auraient rachetés grace à des actions commerciales nous aurions gagné **150 millions d'euros**.\n",
    "\n"
   ]
  },
  {
   "cell_type": "markdown",
   "metadata": {},
   "source": [
    "# Analyse des paniers"
   ]
  },
  {
   "cell_type": "code",
   "execution_count": 1,
   "metadata": {
    "scrolled": true
   },
   "outputs": [],
   "source": [
    "import pandas as pd \n",
    "import numpy as np\n",
    "import matplotlib.pyplot as plt\n",
    "import seaborn as sns\n",
    "import datetime\n",
    "from statsmodels.distributions.empirical_distribution import ECDF\n",
    "\n",
    "data = pd.read_csv('panier_client_full.csv', parse_dates = ['date_order']).rename(columns = {'delay_bool': 'delay_number'})"
   ]
  },
  {
   "cell_type": "code",
   "execution_count": 2,
   "metadata": {},
   "outputs": [
    {
     "data": {
      "text/html": [
       "<div>\n",
       "<style scoped>\n",
       "    .dataframe tbody tr th:only-of-type {\n",
       "        vertical-align: middle;\n",
       "    }\n",
       "\n",
       "    .dataframe tbody tr th {\n",
       "        vertical-align: top;\n",
       "    }\n",
       "\n",
       "    .dataframe thead th {\n",
       "        text-align: right;\n",
       "    }\n",
       "</style>\n",
       "<table border=\"1\" class=\"dataframe\">\n",
       "  <thead>\n",
       "    <tr style=\"text-align: right;\">\n",
       "      <th></th>\n",
       "      <th>client_id</th>\n",
       "      <th>date_order</th>\n",
       "      <th>sales_net</th>\n",
       "      <th>quantity</th>\n",
       "      <th>number_of_products</th>\n",
       "      <th>delay_mean</th>\n",
       "      <th>delay_max</th>\n",
       "      <th>delay_number</th>\n",
       "      <th>channel</th>\n",
       "      <th>delay_bool</th>\n",
       "    </tr>\n",
       "  </thead>\n",
       "  <tbody>\n",
       "    <tr>\n",
       "      <th>0</th>\n",
       "      <td>6.0</td>\n",
       "      <td>2017-11-29</td>\n",
       "      <td>204.12961</td>\n",
       "      <td>8.0</td>\n",
       "      <td>2.0</td>\n",
       "      <td>NaN</td>\n",
       "      <td>NaN</td>\n",
       "      <td>0.0</td>\n",
       "      <td>at the store</td>\n",
       "      <td>False</td>\n",
       "    </tr>\n",
       "    <tr>\n",
       "      <th>1</th>\n",
       "      <td>6.0</td>\n",
       "      <td>2018-11-20</td>\n",
       "      <td>270.80200</td>\n",
       "      <td>20.0</td>\n",
       "      <td>4.0</td>\n",
       "      <td>NaN</td>\n",
       "      <td>NaN</td>\n",
       "      <td>0.0</td>\n",
       "      <td>at the store</td>\n",
       "      <td>False</td>\n",
       "    </tr>\n",
       "    <tr>\n",
       "      <th>2</th>\n",
       "      <td>6.0</td>\n",
       "      <td>2018-11-22</td>\n",
       "      <td>193.42080</td>\n",
       "      <td>3.0</td>\n",
       "      <td>1.0</td>\n",
       "      <td>NaN</td>\n",
       "      <td>NaN</td>\n",
       "      <td>0.0</td>\n",
       "      <td>at the store</td>\n",
       "      <td>False</td>\n",
       "    </tr>\n",
       "    <tr>\n",
       "      <th>3</th>\n",
       "      <td>6.0</td>\n",
       "      <td>2019-02-12</td>\n",
       "      <td>139.24200</td>\n",
       "      <td>3.0</td>\n",
       "      <td>1.0</td>\n",
       "      <td>NaN</td>\n",
       "      <td>NaN</td>\n",
       "      <td>0.0</td>\n",
       "      <td>at the store</td>\n",
       "      <td>False</td>\n",
       "    </tr>\n",
       "    <tr>\n",
       "      <th>4</th>\n",
       "      <td>6.0</td>\n",
       "      <td>2019-02-13</td>\n",
       "      <td>35.13480</td>\n",
       "      <td>6.0</td>\n",
       "      <td>2.0</td>\n",
       "      <td>NaN</td>\n",
       "      <td>NaN</td>\n",
       "      <td>0.0</td>\n",
       "      <td>at the store</td>\n",
       "      <td>False</td>\n",
       "    </tr>\n",
       "  </tbody>\n",
       "</table>\n",
       "</div>"
      ],
      "text/plain": [
       "   client_id date_order  sales_net  quantity  number_of_products  delay_mean  \\\n",
       "0        6.0 2017-11-29  204.12961       8.0                 2.0         NaN   \n",
       "1        6.0 2018-11-20  270.80200      20.0                 4.0         NaN   \n",
       "2        6.0 2018-11-22  193.42080       3.0                 1.0         NaN   \n",
       "3        6.0 2019-02-12  139.24200       3.0                 1.0         NaN   \n",
       "4        6.0 2019-02-13   35.13480       6.0                 2.0         NaN   \n",
       "\n",
       "   delay_max  delay_number       channel  delay_bool  \n",
       "0        NaN           0.0  at the store       False  \n",
       "1        NaN           0.0  at the store       False  \n",
       "2        NaN           0.0  at the store       False  \n",
       "3        NaN           0.0  at the store       False  \n",
       "4        NaN           0.0  at the store       False  "
      ]
     },
     "execution_count": 2,
     "metadata": {},
     "output_type": "execute_result"
    }
   ],
   "source": [
    "data['delay_mean'] = data['delay_mean'].replace({0: np.NaN})\n",
    "data['delay_max'] = data['delay_max'].replace({0: np.NaN})\n",
    "data['delay_bool'] = data['delay_number'] > 0\n",
    "data.head()"
   ]
  },
  {
   "cell_type": "markdown",
   "metadata": {},
   "source": [
    "# Labelisation des churners"
   ]
  },
  {
   "cell_type": "markdown",
   "metadata": {},
   "source": [
    "## Utils"
   ]
  },
  {
   "cell_type": "code",
   "execution_count": 3,
   "metadata": {},
   "outputs": [],
   "source": [
    "#Détermination de la date de dernier achat au jour près\n",
    "def last_buy_days(data, ref_date=None):\n",
    "    if ref_date is None:\n",
    "        ref_date = datetime.datetime(2019, 9, 22)\n",
    "    df = data.groupby('client_id').agg({'date_order' : 'max'}).rename(columns = {'date_order' : 'last_buy'})\n",
    "    df['recency'] = (ref_date - df.last_buy).map(lambda x: x.days)\n",
    "    return df"
   ]
  },
  {
   "cell_type": "code",
   "execution_count": 4,
   "metadata": {},
   "outputs": [],
   "source": [
    "def feature_engineering_nonagg(data):\n",
    "    #Détermination de la durée entre deux achats et de l'évolution du panier\n",
    "    data['diff_previous_buy_days'] = data.sort_values(by = ['client_id', 'date_order']).groupby('client_id').date_order.diff().map(lambda x: x.days)\n",
    "    data['diff_previous_buy_sales'] = data.sort_values(by = ['client_id', 'date_order']).groupby('client_id').sales_net.diff()\n",
    "    return data"
   ]
  },
  {
   "cell_type": "code",
   "execution_count": 5,
   "metadata": {},
   "outputs": [],
   "source": [
    "def consumption(data):\n",
    "    #Détermination du comportement d'un client\n",
    "    consumption = data.groupby('client_id').agg({'diff_previous_buy_days' : ['mean', 'std', 'min', 'max'], 'diff_previous_buy_sales' : ['mean', 'std', 'min', 'max']})\n",
    "    consumption.columns = list(map(lambda x: '_'.join(x), consumption.columns.values))\n",
    "    return consumption"
   ]
  },
  {
   "cell_type": "code",
   "execution_count": 6,
   "metadata": {},
   "outputs": [],
   "source": [
    "def labelling(client, data_source, ref_date=datetime.datetime(2019, 9, 22)):\n",
    "    #Labelisation des données suivant la règle recency > max difference entre 2 achats\n",
    "    client['recency'] = last_buy_days(data_source, ref_date).recency\n",
    "    client['y_churner'] = (client.recency > client.diff_previous_buy_days_max)\n",
    "    return client"
   ]
  },
  {
   "cell_type": "code",
   "execution_count": 7,
   "metadata": {},
   "outputs": [],
   "source": [
    "def feature_eng(data, label = True):\n",
    "    #Détermination du comportement d'un client\n",
    "    consum = consumption(data)\n",
    "    \n",
    "    #Analyse de la valeur par channel (€ et nombre de paniers)\n",
    "    client = data.groupby(['client_id', 'channel']).agg({'sales_net' : 'sum', 'quantity' : 'count', 'delay_mean' : 'mean',\n",
    "                                                         'delay_max' : 'max', 'delay_number' : 'sum', 'delay_bool' : 'sum'}).unstack()\n",
    "    client.columns = list(map(lambda x: '_'.join(x), client.columns.values))\n",
    "    \n",
    "    #Ajout du comportement client\n",
    "    client = pd.merge(client, consum, how = 'left', left_on = client.index, right_on = consum.index, left_index = True).drop(columns = ['key_0'])\n",
    "    client['volume'] = data.groupby('client_id').date_order.count()\n",
    "    client['sales_net'] = data.groupby('client_id').sales_net.sum()\n",
    "    \n",
    "    #Calcul de la derniere date d'achat\n",
    "    if label:\n",
    "        client = labelling(client, data)\n",
    "    client.fillna(0, inplace = True)\n",
    "    \n",
    "    return client"
   ]
  },
  {
   "cell_type": "markdown",
   "metadata": {},
   "source": [
    "## Feature engineering sur un subset de date"
   ]
  },
  {
   "cell_type": "code",
   "execution_count": 8,
   "metadata": {},
   "outputs": [],
   "source": [
    "#Référence 3 mois avant la derniere date dispo\n",
    "reference_date = datetime.datetime(2019, 6, 22)\n",
    "\n",
    "#Définition des before\n",
    "data_before = data[data.date_order < reference_date].copy(deep = True)"
   ]
  },
  {
   "cell_type": "code",
   "execution_count": 9,
   "metadata": {},
   "outputs": [],
   "source": [
    "data_after = data[data.date_order >= reference_date].copy(deep = True)"
   ]
  },
  {
   "cell_type": "code",
   "execution_count": 10,
   "metadata": {},
   "outputs": [],
   "source": [
    "#Calcul des features non aggrégées sur le dataframe \"before\"\n",
    "df_before = feature_engineering_nonagg(data_before)"
   ]
  },
  {
   "cell_type": "code",
   "execution_count": 11,
   "metadata": {},
   "outputs": [],
   "source": [
    "#Intermédiaire pour calculer la métrique de churn\n",
    "max_before = data_before.groupby('client_id').date_order.max()\n",
    "min_after = data_after.groupby('client_id').date_order.min()"
   ]
  },
  {
   "cell_type": "code",
   "execution_count": 12,
   "metadata": {},
   "outputs": [
    {
     "name": "stdout",
     "output_type": "stream",
     "text": [
      "Nb perdus : 67000\n",
      "Nb_conquis : 6678\n"
     ]
    }
   ],
   "source": [
    "#Estimation des volumes non-notables\n",
    "communs = pd.merge(min_after, max_before, how = 'inner', left_on = min_after.index, right_on = max_before.index)\n",
    "nb_conquis = min_after.shape[0] - communs.shape[0]\n",
    "nb_perdus = max_before.shape[0] - communs.shape[0]\n",
    "print(f'Nb perdus : {nb_perdus}')\n",
    "print(f'Nb_conquis : {nb_conquis}')"
   ]
  },
  {
   "cell_type": "code",
   "execution_count": 13,
   "metadata": {},
   "outputs": [],
   "source": [
    "#Calcul des features agregées pour le before et des personnes non-notables pour faible volume\n",
    "df_before_agg = feature_eng(df_before, label = False)\n",
    "mask_volume = df_before_agg.volume > 2"
   ]
  },
  {
   "cell_type": "code",
   "execution_count": 14,
   "metadata": {},
   "outputs": [
    {
     "name": "stdout",
     "output_type": "stream",
     "text": [
      "Perte de : 33768\n"
     ]
    }
   ],
   "source": [
    "print(f'Perte de : {mask_volume.value_counts().iloc[1]}')\n",
    "df_before_agg = df_before_agg[mask_volume]"
   ]
  },
  {
   "cell_type": "code",
   "execution_count": 15,
   "metadata": {},
   "outputs": [],
   "source": [
    "#Etape de labelling\n",
    "threshold = (min_after[max_before.index][mask_volume] - max_before[mask_volume]).map(lambda x : x.days).fillna(np.inf)\n",
    "\n",
    "target = df_before_agg.diff_previous_buy_days_max < (1.1 * threshold)"
   ]
  },
  {
   "cell_type": "code",
   "execution_count": 16,
   "metadata": {},
   "outputs": [
    {
     "data": {
      "text/plain": [
       "False    0.563173\n",
       "True     0.436827\n",
       "dtype: float64"
      ]
     },
     "execution_count": 16,
     "metadata": {},
     "output_type": "execute_result"
    }
   ],
   "source": [
    "target.value_counts(normalize = True)"
   ]
  },
  {
   "cell_type": "code",
   "execution_count": 17,
   "metadata": {},
   "outputs": [
    {
     "data": {
      "text/plain": [
       "False    73293\n",
       "True     56850\n",
       "dtype: int64"
      ]
     },
     "execution_count": 17,
     "metadata": {},
     "output_type": "execute_result"
    }
   ],
   "source": [
    "target.value_counts()"
   ]
  },
  {
   "cell_type": "code",
   "execution_count": 18,
   "metadata": {},
   "outputs": [],
   "source": [
    "#Addition du nombre de produis distinct\n",
    "product = pd.read_csv('product_client_full.csv').rename(columns = {'quantity' : 'distinct_products'})\n",
    "product = product.groupby('client_id').distinct_products.sum()\n",
    "\n",
    "#Addition du nombre de branche distinctes visitées\n",
    "branch = pd.read_csv('branch_client.csv')\n",
    "branch = branch.groupby('client_id').quantity.sum()"
   ]
  },
  {
   "cell_type": "code",
   "execution_count": 19,
   "metadata": {},
   "outputs": [],
   "source": [
    "df_before_agg['distinct_products'] = product"
   ]
  },
  {
   "cell_type": "code",
   "execution_count": 20,
   "metadata": {},
   "outputs": [],
   "source": [
    "df_before_agg['distinct_branchs'] = branch"
   ]
  },
  {
   "cell_type": "markdown",
   "metadata": {},
   "source": [
    "# Prediction simple"
   ]
  },
  {
   "cell_type": "code",
   "execution_count": 21,
   "metadata": {},
   "outputs": [],
   "source": [
    "from sklearn.linear_model import LogisticRegression\n",
    "from sklearn.ensemble import RandomForestClassifier, GradientBoostingClassifier\n",
    "from sklearn.dummy import DummyClassifier\n",
    "from sklearn.model_selection import train_test_split\n",
    "from sklearn.metrics import classification_report, confusion_matrix, roc_auc_score, auc, roc_curve\n",
    "from sklearn.preprocessing import StandardScaler\n",
    "from sklearn.model_selection import GridSearchCV\n",
    "import warnings\n",
    "warnings.filterwarnings('ignore')"
   ]
  },
  {
   "cell_type": "code",
   "execution_count": 22,
   "metadata": {},
   "outputs": [],
   "source": [
    "#Suppression des varaibles prédicitives des données d'entrainement\n",
    "\n",
    "y = target\n",
    "X = df_before_agg\n",
    "\n",
    "X_train, X_test, y_train, y_test = train_test_split(X, y, )\n",
    "\n",
    "#Pipeline de traitement / Scaler \n",
    "scaler = StandardScaler()\n",
    "X_train_scaled = scaler.fit_transform(X_train)\n",
    "X_test_scaled = scaler.transform(X_test)"
   ]
  },
  {
   "cell_type": "markdown",
   "metadata": {},
   "source": [
    "## Logistic Regression"
   ]
  },
  {
   "cell_type": "code",
   "execution_count": 23,
   "metadata": {},
   "outputs": [],
   "source": [
    "#Model\n",
    "model = LogisticRegression()"
   ]
  },
  {
   "cell_type": "code",
   "execution_count": 24,
   "metadata": {
    "scrolled": true
   },
   "outputs": [
    {
     "name": "stdout",
     "output_type": "stream",
     "text": [
      "Fitting 5 folds for each of 10 candidates, totalling 50 fits\n",
      "[CV] C=0.01, penalty=l2 ..............................................\n"
     ]
    },
    {
     "name": "stderr",
     "output_type": "stream",
     "text": [
      "[Parallel(n_jobs=1)]: Using backend SequentialBackend with 1 concurrent workers.\n"
     ]
    },
    {
     "name": "stdout",
     "output_type": "stream",
     "text": [
      "[CV] ............................... C=0.01, penalty=l2, total=   0.6s\n",
      "[CV] C=0.01, penalty=l2 ..............................................\n"
     ]
    },
    {
     "name": "stderr",
     "output_type": "stream",
     "text": [
      "[Parallel(n_jobs=1)]: Done   1 out of   1 | elapsed:    0.6s remaining:    0.0s\n"
     ]
    },
    {
     "name": "stdout",
     "output_type": "stream",
     "text": [
      "[CV] ............................... C=0.01, penalty=l2, total=   0.6s\n",
      "[CV] C=0.01, penalty=l2 ..............................................\n",
      "[CV] ............................... C=0.01, penalty=l2, total=   0.5s\n",
      "[CV] C=0.01, penalty=l2 ..............................................\n",
      "[CV] ............................... C=0.01, penalty=l2, total=   0.5s\n",
      "[CV] C=0.01, penalty=l2 ..............................................\n",
      "[CV] ............................... C=0.01, penalty=l2, total=   0.4s\n",
      "[CV] C=0.016681005372000592, penalty=l2 ..............................\n",
      "[CV] ............... C=0.016681005372000592, penalty=l2, total=   0.4s\n",
      "[CV] C=0.016681005372000592, penalty=l2 ..............................\n",
      "[CV] ............... C=0.016681005372000592, penalty=l2, total=   0.4s\n",
      "[CV] C=0.016681005372000592, penalty=l2 ..............................\n",
      "[CV] ............... C=0.016681005372000592, penalty=l2, total=   0.8s\n",
      "[CV] C=0.016681005372000592, penalty=l2 ..............................\n",
      "[CV] ............... C=0.016681005372000592, penalty=l2, total=   0.6s\n",
      "[CV] C=0.016681005372000592, penalty=l2 ..............................\n",
      "[CV] ............... C=0.016681005372000592, penalty=l2, total=   0.6s\n",
      "[CV] C=0.027825594022071243, penalty=l2 ..............................\n",
      "[CV] ............... C=0.027825594022071243, penalty=l2, total=   0.6s\n",
      "[CV] C=0.027825594022071243, penalty=l2 ..............................\n",
      "[CV] ............... C=0.027825594022071243, penalty=l2, total=   0.7s\n",
      "[CV] C=0.027825594022071243, penalty=l2 ..............................\n",
      "[CV] ............... C=0.027825594022071243, penalty=l2, total=   0.6s\n",
      "[CV] C=0.027825594022071243, penalty=l2 ..............................\n",
      "[CV] ............... C=0.027825594022071243, penalty=l2, total=   0.6s\n",
      "[CV] C=0.027825594022071243, penalty=l2 ..............................\n",
      "[CV] ............... C=0.027825594022071243, penalty=l2, total=   0.6s\n",
      "[CV] C=0.046415888336127774, penalty=l2 ..............................\n",
      "[CV] ............... C=0.046415888336127774, penalty=l2, total=   0.7s\n",
      "[CV] C=0.046415888336127774, penalty=l2 ..............................\n",
      "[CV] ............... C=0.046415888336127774, penalty=l2, total=   0.6s\n",
      "[CV] C=0.046415888336127774, penalty=l2 ..............................\n",
      "[CV] ............... C=0.046415888336127774, penalty=l2, total=   0.5s\n",
      "[CV] C=0.046415888336127774, penalty=l2 ..............................\n",
      "[CV] ............... C=0.046415888336127774, penalty=l2, total=   0.4s\n",
      "[CV] C=0.046415888336127774, penalty=l2 ..............................\n",
      "[CV] ............... C=0.046415888336127774, penalty=l2, total=   0.8s\n",
      "[CV] C=0.0774263682681127, penalty=l2 ................................\n",
      "[CV] ................. C=0.0774263682681127, penalty=l2, total=   0.6s\n",
      "[CV] C=0.0774263682681127, penalty=l2 ................................\n",
      "[CV] ................. C=0.0774263682681127, penalty=l2, total=   0.7s\n",
      "[CV] C=0.0774263682681127, penalty=l2 ................................\n",
      "[CV] ................. C=0.0774263682681127, penalty=l2, total=   0.6s\n",
      "[CV] C=0.0774263682681127, penalty=l2 ................................\n",
      "[CV] ................. C=0.0774263682681127, penalty=l2, total=   0.7s\n",
      "[CV] C=0.0774263682681127, penalty=l2 ................................\n",
      "[CV] ................. C=0.0774263682681127, penalty=l2, total=   0.7s\n",
      "[CV] C=0.1291549665014884, penalty=l2 ................................\n",
      "[CV] ................. C=0.1291549665014884, penalty=l2, total=   0.6s\n",
      "[CV] C=0.1291549665014884, penalty=l2 ................................\n",
      "[CV] ................. C=0.1291549665014884, penalty=l2, total=   0.6s\n",
      "[CV] C=0.1291549665014884, penalty=l2 ................................\n",
      "[CV] ................. C=0.1291549665014884, penalty=l2, total=   0.6s\n",
      "[CV] C=0.1291549665014884, penalty=l2 ................................\n",
      "[CV] ................. C=0.1291549665014884, penalty=l2, total=   0.5s\n",
      "[CV] C=0.1291549665014884, penalty=l2 ................................\n",
      "[CV] ................. C=0.1291549665014884, penalty=l2, total=   0.6s\n",
      "[CV] C=0.21544346900318834, penalty=l2 ...............................\n",
      "[CV] ................ C=0.21544346900318834, penalty=l2, total=   0.6s\n",
      "[CV] C=0.21544346900318834, penalty=l2 ...............................\n",
      "[CV] ................ C=0.21544346900318834, penalty=l2, total=   0.6s\n",
      "[CV] C=0.21544346900318834, penalty=l2 ...............................\n",
      "[CV] ................ C=0.21544346900318834, penalty=l2, total=   0.5s\n",
      "[CV] C=0.21544346900318834, penalty=l2 ...............................\n",
      "[CV] ................ C=0.21544346900318834, penalty=l2, total=   0.5s\n",
      "[CV] C=0.21544346900318834, penalty=l2 ...............................\n",
      "[CV] ................ C=0.21544346900318834, penalty=l2, total=   0.6s\n",
      "[CV] C=0.3593813663804626, penalty=l2 ................................\n",
      "[CV] ................. C=0.3593813663804626, penalty=l2, total=   0.5s\n",
      "[CV] C=0.3593813663804626, penalty=l2 ................................\n",
      "[CV] ................. C=0.3593813663804626, penalty=l2, total=   0.6s\n",
      "[CV] C=0.3593813663804626, penalty=l2 ................................\n",
      "[CV] ................. C=0.3593813663804626, penalty=l2, total=   0.6s\n",
      "[CV] C=0.3593813663804626, penalty=l2 ................................\n",
      "[CV] ................. C=0.3593813663804626, penalty=l2, total=   0.6s\n",
      "[CV] C=0.3593813663804626, penalty=l2 ................................\n",
      "[CV] ................. C=0.3593813663804626, penalty=l2, total=   0.7s\n",
      "[CV] C=0.5994842503189409, penalty=l2 ................................\n",
      "[CV] ................. C=0.5994842503189409, penalty=l2, total=   0.6s\n",
      "[CV] C=0.5994842503189409, penalty=l2 ................................\n",
      "[CV] ................. C=0.5994842503189409, penalty=l2, total=   0.7s\n",
      "[CV] C=0.5994842503189409, penalty=l2 ................................\n",
      "[CV] ................. C=0.5994842503189409, penalty=l2, total=   0.7s\n",
      "[CV] C=0.5994842503189409, penalty=l2 ................................\n",
      "[CV] ................. C=0.5994842503189409, penalty=l2, total=   0.5s\n",
      "[CV] C=0.5994842503189409, penalty=l2 ................................\n",
      "[CV] ................. C=0.5994842503189409, penalty=l2, total=   0.6s\n",
      "[CV] C=1.0, penalty=l2 ...............................................\n",
      "[CV] ................................ C=1.0, penalty=l2, total=   0.6s\n",
      "[CV] C=1.0, penalty=l2 ...............................................\n",
      "[CV] ................................ C=1.0, penalty=l2, total=   0.6s\n",
      "[CV] C=1.0, penalty=l2 ...............................................\n",
      "[CV] ................................ C=1.0, penalty=l2, total=   0.6s\n",
      "[CV] C=1.0, penalty=l2 ...............................................\n",
      "[CV] ................................ C=1.0, penalty=l2, total=   0.6s\n",
      "[CV] C=1.0, penalty=l2 ...............................................\n",
      "[CV] ................................ C=1.0, penalty=l2, total=   0.6s\n"
     ]
    },
    {
     "name": "stderr",
     "output_type": "stream",
     "text": [
      "[Parallel(n_jobs=1)]: Done  50 out of  50 | elapsed:   29.5s finished\n"
     ]
    },
    {
     "data": {
      "text/plain": [
       "GridSearchCV(cv=5, error_score=nan,\n",
       "             estimator=LogisticRegression(C=1.0, class_weight=None, dual=False,\n",
       "                                          fit_intercept=True,\n",
       "                                          intercept_scaling=1, l1_ratio=None,\n",
       "                                          max_iter=100, multi_class='auto',\n",
       "                                          n_jobs=None, penalty='l2',\n",
       "                                          random_state=None, solver='lbfgs',\n",
       "                                          tol=0.0001, verbose=0,\n",
       "                                          warm_start=False),\n",
       "             iid='deprecated', n_jobs=None,\n",
       "             param_grid={'C': array([0.01      , 0.01668101, 0.02782559, 0.04641589, 0.07742637,\n",
       "       0.12915497, 0.21544347, 0.35938137, 0.59948425, 1.        ]),\n",
       "                         'penalty': ['l2']},\n",
       "             pre_dispatch='2*n_jobs', refit=True, return_train_score=False,\n",
       "             scoring='roc_auc', verbose=2)"
      ]
     },
     "execution_count": 24,
     "metadata": {},
     "output_type": "execute_result"
    }
   ],
   "source": [
    "#GridSearch\n",
    "param_grid = {'C': np.logspace(-2, 0, num = 10), 'penalty': ['l2']}\n",
    "# param_grid = {'n_estimators' : [10, 30, 50, 100], 'subsample' : [0.5, 0.8, 1]}\n",
    "# param_grid = {'n_estimators' : [10, 30, 50], 'max_depth' : [None, 5, 10]}\n",
    "\n",
    "gridsearch = GridSearchCV(model, param_grid, scoring = 'roc_auc', verbose = 2, cv = 5)\n",
    "gridsearch.fit(X_train_scaled, y_train)"
   ]
  },
  {
   "cell_type": "code",
   "execution_count": 25,
   "metadata": {},
   "outputs": [
    {
     "name": "stdout",
     "output_type": "stream",
     "text": [
      "              precision    recall  f1-score   support\n",
      "\n",
      "       False       0.77      0.79      0.78     18270\n",
      "        True       0.72      0.71      0.71     14266\n",
      "\n",
      "    accuracy                           0.75     32536\n",
      "   macro avg       0.75      0.75      0.75     32536\n",
      "weighted avg       0.75      0.75      0.75     32536\n",
      "\n"
     ]
    },
    {
     "data": {
      "image/png": "[encoded data removed]",
      "text/plain": [
       "<Figure size 432x288 with 2 Axes>"
      ]
     },
     "metadata": {
      "needs_background": "light"
     },
     "output_type": "display_data"
    }
   ],
   "source": [
    "#Best estimateur\n",
    "best_model = gridsearch.best_estimator_\n",
    "\n",
    "#Test set\n",
    "y_pred = best_model.predict(X_test_scaled)\n",
    "\n",
    "print(classification_report(y_test, y_pred))\n",
    "sns.heatmap(confusion_matrix(y_test, y_pred), annot = True, fmt = '.1f', cmap = 'Blues')\n",
    "plt.show()"
   ]
  },
  {
   "cell_type": "code",
   "execution_count": 26,
   "metadata": {},
   "outputs": [
    {
     "name": "stdout",
     "output_type": "stream",
     "text": [
      "              precision    recall  f1-score   support\n",
      "\n",
      "       False       0.78      0.79      0.78     55023\n",
      "        True       0.72      0.70      0.71     42584\n",
      "\n",
      "    accuracy                           0.75     97607\n",
      "   macro avg       0.75      0.75      0.75     97607\n",
      "weighted avg       0.75      0.75      0.75     97607\n",
      "\n"
     ]
    },
    {
     "data": {
      "text/plain": [
       "<matplotlib.axes._subplots.AxesSubplot at 0x11af6b410>"
      ]
     },
     "execution_count": 26,
     "metadata": {},
     "output_type": "execute_result"
    },
    {
     "data": {
      "image/png": "[encoded data removed]",
      "text/plain": [
       "<Figure size 432x288 with 2 Axes>"
      ]
     },
     "metadata": {
      "needs_background": "light"
     },
     "output_type": "display_data"
    }
   ],
   "source": [
    "#Train set\n",
    "y_pred_train = best_model.predict(X_train_scaled)\n",
    "\n",
    "print(classification_report(y_train, y_pred_train))\n",
    "sns.heatmap(confusion_matrix(y_train, y_pred_train), annot = True, fmt = '.1f')"
   ]
  },
  {
   "cell_type": "code",
   "execution_count": 27,
   "metadata": {
    "scrolled": false
   },
   "outputs": [
    {
     "data": {
      "image/png": "[encoded data removed]",
      "text/plain": [
       "<Figure size 720x720 with 1 Axes>"
      ]
     },
     "metadata": {
      "needs_background": "light"
     },
     "output_type": "display_data"
    }
   ],
   "source": [
    "size = best_model.coef_.shape[1]\n",
    "\n",
    "coef = best_model.coef_.reshape((size,))\n",
    "val =  np.array(X.columns)\n",
    "\n",
    "perm = [y for x,y in sorted([(v,i) for i,v in enumerate(abs(coef))])]\n",
    "                                \n",
    "                                \n",
    "# \"all_features = sorted(zip(),))\n",
    "plt.figure(figsize = (10,10))\n",
    "\n",
    "plt.barh(val[perm][-15:], coef[perm][-15:])\n",
    "plt.show()"
   ]
  },
  {
   "cell_type": "code",
   "execution_count": 28,
   "metadata": {},
   "outputs": [
    {
     "data": {
      "image/png": "[encoded data removed]",
      "text/plain": [
       "<Figure size 432x288 with 1 Axes>"
      ]
     },
     "metadata": {
      "needs_background": "light"
     },
     "output_type": "display_data"
    }
   ],
   "source": [
    "y_probas = best_model.predict_proba(X_test_scaled)\n",
    "\n",
    "fpr, tpr, _ = roc_curve(y_test, y_probas[:, 1])\n",
    "roc_auc = auc(fpr, tpr)\n",
    "\n",
    "plt.figure()\n",
    "plt.plot(fpr, tpr, color='green', label='ROC curve (area = %0.4f)' % roc_auc)\n",
    "plt.plot([0, 1], [0, 1], color='blue', linestyle='--')\n",
    "plt.xlim([0.0, 1.0])\n",
    "plt.ylim([0.0, 1.05])\n",
    "plt.xlabel('False Positive Rate')\n",
    "plt.ylabel('True Positive Rate')\n",
    "plt.title('ROC Curve')\n",
    "plt.legend(loc=\"lower right\")\n",
    "plt.show()"
   ]
  },
  {
   "cell_type": "markdown",
   "metadata": {},
   "source": [
    "## RandomForest"
   ]
  },
  {
   "cell_type": "code",
   "execution_count": 29,
   "metadata": {
    "scrolled": true
   },
   "outputs": [
    {
     "name": "stdout",
     "output_type": "stream",
     "text": [
      "Fitting 5 folds for each of 12 candidates, totalling 60 fits\n",
      "[CV] criterion=gini, max_depth=10, min_samples_leaf=3, n_estimators=50 \n"
     ]
    },
    {
     "name": "stderr",
     "output_type": "stream",
     "text": [
      "[Parallel(n_jobs=1)]: Using backend SequentialBackend with 1 concurrent workers.\n"
     ]
    },
    {
     "name": "stdout",
     "output_type": "stream",
     "text": [
      "[CV]  criterion=gini, max_depth=10, min_samples_leaf=3, n_estimators=50, total=   7.3s\n",
      "[CV] criterion=gini, max_depth=10, min_samples_leaf=3, n_estimators=50 \n"
     ]
    },
    {
     "name": "stderr",
     "output_type": "stream",
     "text": [
      "[Parallel(n_jobs=1)]: Done   1 out of   1 | elapsed:    7.3s remaining:    0.0s\n"
     ]
    },
    {
     "name": "stdout",
     "output_type": "stream",
     "text": [
      "[CV]  criterion=gini, max_depth=10, min_samples_leaf=3, n_estimators=50, total=   7.1s\n",
      "[CV] criterion=gini, max_depth=10, min_samples_leaf=3, n_estimators=50 \n",
      "[CV]  criterion=gini, max_depth=10, min_samples_leaf=3, n_estimators=50, total=   6.9s\n",
      "[CV] criterion=gini, max_depth=10, min_samples_leaf=3, n_estimators=50 \n",
      "[CV]  criterion=gini, max_depth=10, min_samples_leaf=3, n_estimators=50, total=   8.0s\n",
      "[CV] criterion=gini, max_depth=10, min_samples_leaf=3, n_estimators=50 \n",
      "[CV]  criterion=gini, max_depth=10, min_samples_leaf=3, n_estimators=50, total=   6.8s\n",
      "[CV] criterion=gini, max_depth=10, min_samples_leaf=5, n_estimators=50 \n",
      "[CV]  criterion=gini, max_depth=10, min_samples_leaf=5, n_estimators=50, total=   6.8s\n",
      "[CV] criterion=gini, max_depth=10, min_samples_leaf=5, n_estimators=50 \n",
      "[CV]  criterion=gini, max_depth=10, min_samples_leaf=5, n_estimators=50, total=   6.5s\n",
      "[CV] criterion=gini, max_depth=10, min_samples_leaf=5, n_estimators=50 \n",
      "[CV]  criterion=gini, max_depth=10, min_samples_leaf=5, n_estimators=50, total=   7.2s\n",
      "[CV] criterion=gini, max_depth=10, min_samples_leaf=5, n_estimators=50 \n",
      "[CV]  criterion=gini, max_depth=10, min_samples_leaf=5, n_estimators=50, total=   7.7s\n",
      "[CV] criterion=gini, max_depth=10, min_samples_leaf=5, n_estimators=50 \n",
      "[CV]  criterion=gini, max_depth=10, min_samples_leaf=5, n_estimators=50, total=   7.7s\n",
      "[CV] criterion=gini, max_depth=15, min_samples_leaf=3, n_estimators=50 \n",
      "[CV]  criterion=gini, max_depth=15, min_samples_leaf=3, n_estimators=50, total=   9.2s\n",
      "[CV] criterion=gini, max_depth=15, min_samples_leaf=3, n_estimators=50 \n",
      "[CV]  criterion=gini, max_depth=15, min_samples_leaf=3, n_estimators=50, total=   9.0s\n",
      "[CV] criterion=gini, max_depth=15, min_samples_leaf=3, n_estimators=50 \n",
      "[CV]  criterion=gini, max_depth=15, min_samples_leaf=3, n_estimators=50, total=   9.5s\n",
      "[CV] criterion=gini, max_depth=15, min_samples_leaf=3, n_estimators=50 \n",
      "[CV]  criterion=gini, max_depth=15, min_samples_leaf=3, n_estimators=50, total=   9.1s\n",
      "[CV] criterion=gini, max_depth=15, min_samples_leaf=3, n_estimators=50 \n",
      "[CV]  criterion=gini, max_depth=15, min_samples_leaf=3, n_estimators=50, total=   9.1s\n",
      "[CV] criterion=gini, max_depth=15, min_samples_leaf=5, n_estimators=50 \n",
      "[CV]  criterion=gini, max_depth=15, min_samples_leaf=5, n_estimators=50, total=   9.0s\n",
      "[CV] criterion=gini, max_depth=15, min_samples_leaf=5, n_estimators=50 \n",
      "[CV]  criterion=gini, max_depth=15, min_samples_leaf=5, n_estimators=50, total=   8.9s\n",
      "[CV] criterion=gini, max_depth=15, min_samples_leaf=5, n_estimators=50 \n",
      "[CV]  criterion=gini, max_depth=15, min_samples_leaf=5, n_estimators=50, total=   8.9s\n",
      "[CV] criterion=gini, max_depth=15, min_samples_leaf=5, n_estimators=50 \n",
      "[CV]  criterion=gini, max_depth=15, min_samples_leaf=5, n_estimators=50, total=   9.2s\n",
      "[CV] criterion=gini, max_depth=15, min_samples_leaf=5, n_estimators=50 \n",
      "[CV]  criterion=gini, max_depth=15, min_samples_leaf=5, n_estimators=50, total=   9.3s\n",
      "[CV] criterion=gini, max_depth=20, min_samples_leaf=3, n_estimators=50 \n",
      "[CV]  criterion=gini, max_depth=20, min_samples_leaf=3, n_estimators=50, total=  10.8s\n",
      "[CV] criterion=gini, max_depth=20, min_samples_leaf=3, n_estimators=50 \n",
      "[CV]  criterion=gini, max_depth=20, min_samples_leaf=3, n_estimators=50, total=  11.0s\n",
      "[CV] criterion=gini, max_depth=20, min_samples_leaf=3, n_estimators=50 \n",
      "[CV]  criterion=gini, max_depth=20, min_samples_leaf=3, n_estimators=50, total=  11.0s\n",
      "[CV] criterion=gini, max_depth=20, min_samples_leaf=3, n_estimators=50 \n",
      "[CV]  criterion=gini, max_depth=20, min_samples_leaf=3, n_estimators=50, total=  10.8s\n",
      "[CV] criterion=gini, max_depth=20, min_samples_leaf=3, n_estimators=50 \n",
      "[CV]  criterion=gini, max_depth=20, min_samples_leaf=3, n_estimators=50, total=  10.4s\n",
      "[CV] criterion=gini, max_depth=20, min_samples_leaf=5, n_estimators=50 \n",
      "[CV]  criterion=gini, max_depth=20, min_samples_leaf=5, n_estimators=50, total=  10.0s\n",
      "[CV] criterion=gini, max_depth=20, min_samples_leaf=5, n_estimators=50 \n",
      "[CV]  criterion=gini, max_depth=20, min_samples_leaf=5, n_estimators=50, total=   9.5s\n",
      "[CV] criterion=gini, max_depth=20, min_samples_leaf=5, n_estimators=50 \n",
      "[CV]  criterion=gini, max_depth=20, min_samples_leaf=5, n_estimators=50, total=   9.6s\n",
      "[CV] criterion=gini, max_depth=20, min_samples_leaf=5, n_estimators=50 \n",
      "[CV]  criterion=gini, max_depth=20, min_samples_leaf=5, n_estimators=50, total=   9.6s\n",
      "[CV] criterion=gini, max_depth=20, min_samples_leaf=5, n_estimators=50 \n",
      "[CV]  criterion=gini, max_depth=20, min_samples_leaf=5, n_estimators=50, total=   9.9s\n",
      "[CV] criterion=entropy, max_depth=10, min_samples_leaf=3, n_estimators=50 \n",
      "[CV]  criterion=entropy, max_depth=10, min_samples_leaf=3, n_estimators=50, total=   7.6s\n",
      "[CV] criterion=entropy, max_depth=10, min_samples_leaf=3, n_estimators=50 \n",
      "[CV]  criterion=entropy, max_depth=10, min_samples_leaf=3, n_estimators=50, total=   8.2s\n",
      "[CV] criterion=entropy, max_depth=10, min_samples_leaf=3, n_estimators=50 \n",
      "[CV]  criterion=entropy, max_depth=10, min_samples_leaf=3, n_estimators=50, total=   7.7s\n",
      "[CV] criterion=entropy, max_depth=10, min_samples_leaf=3, n_estimators=50 \n",
      "[CV]  criterion=entropy, max_depth=10, min_samples_leaf=3, n_estimators=50, total=   7.8s\n",
      "[CV] criterion=entropy, max_depth=10, min_samples_leaf=3, n_estimators=50 \n",
      "[CV]  criterion=entropy, max_depth=10, min_samples_leaf=3, n_estimators=50, total=   7.6s\n",
      "[CV] criterion=entropy, max_depth=10, min_samples_leaf=5, n_estimators=50 \n",
      "[CV]  criterion=entropy, max_depth=10, min_samples_leaf=5, n_estimators=50, total=   7.7s\n",
      "[CV] criterion=entropy, max_depth=10, min_samples_leaf=5, n_estimators=50 \n",
      "[CV]  criterion=entropy, max_depth=10, min_samples_leaf=5, n_estimators=50, total=   7.7s\n",
      "[CV] criterion=entropy, max_depth=10, min_samples_leaf=5, n_estimators=50 \n",
      "[CV]  criterion=entropy, max_depth=10, min_samples_leaf=5, n_estimators=50, total=   7.7s\n",
      "[CV] criterion=entropy, max_depth=10, min_samples_leaf=5, n_estimators=50 \n",
      "[CV]  criterion=entropy, max_depth=10, min_samples_leaf=5, n_estimators=50, total=   7.9s\n",
      "[CV] criterion=entropy, max_depth=10, min_samples_leaf=5, n_estimators=50 \n",
      "[CV]  criterion=entropy, max_depth=10, min_samples_leaf=5, n_estimators=50, total=   8.4s\n",
      "[CV] criterion=entropy, max_depth=15, min_samples_leaf=3, n_estimators=50 \n",
      "[CV]  criterion=entropy, max_depth=15, min_samples_leaf=3, n_estimators=50, total=  10.5s\n",
      "[CV] criterion=entropy, max_depth=15, min_samples_leaf=3, n_estimators=50 \n",
      "[CV]  criterion=entropy, max_depth=15, min_samples_leaf=3, n_estimators=50, total=  10.4s\n",
      "[CV] criterion=entropy, max_depth=15, min_samples_leaf=3, n_estimators=50 \n",
      "[CV]  criterion=entropy, max_depth=15, min_samples_leaf=3, n_estimators=50, total=  12.4s\n",
      "[CV] criterion=entropy, max_depth=15, min_samples_leaf=3, n_estimators=50 \n",
      "[CV]  criterion=entropy, max_depth=15, min_samples_leaf=3, n_estimators=50, total=  11.1s\n",
      "[CV] criterion=entropy, max_depth=15, min_samples_leaf=3, n_estimators=50 \n",
      "[CV]  criterion=entropy, max_depth=15, min_samples_leaf=3, n_estimators=50, total=  10.3s\n",
      "[CV] criterion=entropy, max_depth=15, min_samples_leaf=5, n_estimators=50 \n",
      "[CV]  criterion=entropy, max_depth=15, min_samples_leaf=5, n_estimators=50, total=  11.1s\n",
      "[CV] criterion=entropy, max_depth=15, min_samples_leaf=5, n_estimators=50 \n",
      "[CV]  criterion=entropy, max_depth=15, min_samples_leaf=5, n_estimators=50, total=  14.6s\n",
      "[CV] criterion=entropy, max_depth=15, min_samples_leaf=5, n_estimators=50 \n",
      "[CV]  criterion=entropy, max_depth=15, min_samples_leaf=5, n_estimators=50, total=  13.0s\n",
      "[CV] criterion=entropy, max_depth=15, min_samples_leaf=5, n_estimators=50 \n",
      "[CV]  criterion=entropy, max_depth=15, min_samples_leaf=5, n_estimators=50, total=  10.3s\n",
      "[CV] criterion=entropy, max_depth=15, min_samples_leaf=5, n_estimators=50 \n",
      "[CV]  criterion=entropy, max_depth=15, min_samples_leaf=5, n_estimators=50, total=  10.6s\n",
      "[CV] criterion=entropy, max_depth=20, min_samples_leaf=3, n_estimators=50 \n",
      "[CV]  criterion=entropy, max_depth=20, min_samples_leaf=3, n_estimators=50, total=  12.0s\n",
      "[CV] criterion=entropy, max_depth=20, min_samples_leaf=3, n_estimators=50 \n",
      "[CV]  criterion=entropy, max_depth=20, min_samples_leaf=3, n_estimators=50, total=  12.0s\n",
      "[CV] criterion=entropy, max_depth=20, min_samples_leaf=3, n_estimators=50 \n"
     ]
    },
    {
     "name": "stdout",
     "output_type": "stream",
     "text": [
      "[CV]  criterion=entropy, max_depth=20, min_samples_leaf=3, n_estimators=50, total=  12.3s\n",
      "[CV] criterion=entropy, max_depth=20, min_samples_leaf=3, n_estimators=50 \n",
      "[CV]  criterion=entropy, max_depth=20, min_samples_leaf=3, n_estimators=50, total=  11.6s\n",
      "[CV] criterion=entropy, max_depth=20, min_samples_leaf=3, n_estimators=50 \n",
      "[CV]  criterion=entropy, max_depth=20, min_samples_leaf=3, n_estimators=50, total=  11.5s\n",
      "[CV] criterion=entropy, max_depth=20, min_samples_leaf=5, n_estimators=50 \n",
      "[CV]  criterion=entropy, max_depth=20, min_samples_leaf=5, n_estimators=50, total=  12.0s\n",
      "[CV] criterion=entropy, max_depth=20, min_samples_leaf=5, n_estimators=50 \n",
      "[CV]  criterion=entropy, max_depth=20, min_samples_leaf=5, n_estimators=50, total=  12.4s\n",
      "[CV] criterion=entropy, max_depth=20, min_samples_leaf=5, n_estimators=50 \n",
      "[CV]  criterion=entropy, max_depth=20, min_samples_leaf=5, n_estimators=50, total=  11.4s\n",
      "[CV] criterion=entropy, max_depth=20, min_samples_leaf=5, n_estimators=50 \n",
      "[CV]  criterion=entropy, max_depth=20, min_samples_leaf=5, n_estimators=50, total=  11.5s\n",
      "[CV] criterion=entropy, max_depth=20, min_samples_leaf=5, n_estimators=50 \n",
      "[CV]  criterion=entropy, max_depth=20, min_samples_leaf=5, n_estimators=50, total=  12.8s\n"
     ]
    },
    {
     "name": "stderr",
     "output_type": "stream",
     "text": [
      "[Parallel(n_jobs=1)]: Done  60 out of  60 | elapsed:  9.6min finished\n"
     ]
    },
    {
     "data": {
      "text/plain": [
       "GridSearchCV(cv=5, error_score=nan,\n",
       "             estimator=RandomForestClassifier(bootstrap=True, ccp_alpha=0.0,\n",
       "                                              class_weight=None,\n",
       "                                              criterion='gini', max_depth=None,\n",
       "                                              max_features='auto',\n",
       "                                              max_leaf_nodes=None,\n",
       "                                              max_samples=None,\n",
       "                                              min_impurity_decrease=0.0,\n",
       "                                              min_impurity_split=None,\n",
       "                                              min_samples_leaf=1,\n",
       "                                              min_samples_split=2,\n",
       "                                              min_weight_fraction_leaf=0.0,\n",
       "                                              n_estimators=100, n_jobs=None,\n",
       "                                              oob_score=False,\n",
       "                                              random_state=None, verbose=0,\n",
       "                                              warm_start=False),\n",
       "             iid='deprecated', n_jobs=None,\n",
       "             param_grid={'criterion': ['gini', 'entropy'],\n",
       "                         'max_depth': [10, 15, 20], 'min_samples_leaf': [3, 5],\n",
       "                         'n_estimators': [50]},\n",
       "             pre_dispatch='2*n_jobs', refit=True, return_train_score=False,\n",
       "             scoring='precision', verbose=2)"
      ]
     },
     "execution_count": 29,
     "metadata": {},
     "output_type": "execute_result"
    }
   ],
   "source": [
    "#Model\n",
    "rf = RandomForestClassifier()\n",
    "#GridSearch\n",
    "# param_grid = {'n_estimators' : [10, 30, 50], 'max_depth' : [5, 10, 15]}\n",
    "param_grid = {'n_estimators' : [50], 'max_depth' : [10, 15, 20], 'criterion' : ['gini', 'entropy'], 'min_samples_leaf' : [3, 5]}\n",
    "\n",
    "gridsearch_rf = GridSearchCV(rf, param_grid, scoring = 'precision', verbose = 2, cv = 5)\n",
    "gridsearch_rf.fit(X_train_scaled, y_train)"
   ]
  },
  {
   "cell_type": "code",
   "execution_count": 30,
   "metadata": {},
   "outputs": [
    {
     "name": "stdout",
     "output_type": "stream",
     "text": [
      "              precision    recall  f1-score   support\n",
      "\n",
      "       False       0.79      0.84      0.81     18270\n",
      "        True       0.77      0.71      0.74     14266\n",
      "\n",
      "    accuracy                           0.78     32536\n",
      "   macro avg       0.78      0.77      0.78     32536\n",
      "weighted avg       0.78      0.78      0.78     32536\n",
      "\n"
     ]
    },
    {
     "data": {
      "image/png": "[encoded data removed]",
      "text/plain": [
       "<Figure size 432x288 with 2 Axes>"
      ]
     },
     "metadata": {
      "needs_background": "light"
     },
     "output_type": "display_data"
    }
   ],
   "source": [
    "#Best estimateur\n",
    "best_rf = gridsearch_rf.best_estimator_\n",
    "\n",
    "#Test set\n",
    "y_pred_rf = best_rf.predict(X_test_scaled)\n",
    "\n",
    "print(classification_report(y_test, y_pred_rf))\n",
    "sns.heatmap(confusion_matrix(y_test, y_pred_rf), annot = True, fmt = '.1f', cmap = 'Blues')\n",
    "plt.show()"
   ]
  },
  {
   "cell_type": "code",
   "execution_count": 31,
   "metadata": {},
   "outputs": [
    {
     "data": {
      "text/plain": [
       "RandomForestClassifier(bootstrap=True, ccp_alpha=0.0, class_weight=None,\n",
       "                       criterion='gini', max_depth=15, max_features='auto',\n",
       "                       max_leaf_nodes=None, max_samples=None,\n",
       "                       min_impurity_decrease=0.0, min_impurity_split=None,\n",
       "                       min_samples_leaf=5, min_samples_split=2,\n",
       "                       min_weight_fraction_leaf=0.0, n_estimators=50,\n",
       "                       n_jobs=None, oob_score=False, random_state=None,\n",
       "                       verbose=0, warm_start=False)"
      ]
     },
     "execution_count": 31,
     "metadata": {},
     "output_type": "execute_result"
    }
   ],
   "source": [
    "best_rf"
   ]
  },
  {
   "cell_type": "code",
   "execution_count": 32,
   "metadata": {},
   "outputs": [
    {
     "name": "stdout",
     "output_type": "stream",
     "text": [
      "              precision    recall  f1-score   support\n",
      "\n",
      "       False       0.85      0.89      0.87     55023\n",
      "        True       0.86      0.80      0.83     42584\n",
      "\n",
      "    accuracy                           0.85     97607\n",
      "   macro avg       0.85      0.85      0.85     97607\n",
      "weighted avg       0.85      0.85      0.85     97607\n",
      "\n"
     ]
    },
    {
     "data": {
      "text/plain": [
       "<matplotlib.axes._subplots.AxesSubplot at 0x12bc695d0>"
      ]
     },
     "execution_count": 32,
     "metadata": {},
     "output_type": "execute_result"
    },
    {
     "data": {
      "image/png": "[encoded data removed]",
      "text/plain": [
       "<Figure size 432x288 with 2 Axes>"
      ]
     },
     "metadata": {
      "needs_background": "light"
     },
     "output_type": "display_data"
    }
   ],
   "source": [
    "#Train set\n",
    "y_pred_train_rf = best_rf.predict(X_train_scaled)\n",
    "\n",
    "print(classification_report(y_train, y_pred_train_rf))\n",
    "sns.heatmap(confusion_matrix(y_train, y_pred_train_rf), annot = True, fmt = '.1f')"
   ]
  },
  {
   "cell_type": "code",
   "execution_count": 33,
   "metadata": {
    "scrolled": false
   },
   "outputs": [
    {
     "data": {
      "image/png": "[encoded data removed]",
      "text/plain": [
       "<Figure size 432x288 with 1 Axes>"
      ]
     },
     "metadata": {
      "needs_background": "light"
     },
     "output_type": "display_data"
    }
   ],
   "source": [
    "#Importance des variables\n",
    "feature_importance = pd.DataFrame(index = [i for i in range(len(X_train.columns))])\n",
    "feature_importance['Feature'] = X_train.columns\n",
    "feature_importance['Importance'] = best_rf.feature_importances_\n",
    "feature_importance.set_index('Feature', inplace = True)\n",
    "\n",
    "feature_importance.sort_values(by = 'Importance').iloc[32:].plot(kind = 'barh')\n",
    "plt.show()"
   ]
  },
  {
   "cell_type": "code",
   "execution_count": 34,
   "metadata": {},
   "outputs": [
    {
     "data": {
      "image/png": "[encoded data removed]",
      "text/plain": [
       "<Figure size 432x288 with 1 Axes>"
      ]
     },
     "metadata": {
      "needs_background": "light"
     },
     "output_type": "display_data"
    }
   ],
   "source": [
    "y_probas = best_rf.predict_proba(X_test_scaled)\n",
    "\n",
    "fpr, tpr, _ = roc_curve(y_test, y_probas[:, 1])\n",
    "roc_auc = auc(fpr, tpr)\n",
    "\n",
    "plt.figure()\n",
    "plt.plot(fpr, tpr, color='green', label='ROC curve (area = %0.4f)' % roc_auc)\n",
    "plt.plot([0, 1], [0, 1], color='blue', linestyle='--')\n",
    "plt.xlim([0.0, 1.0])\n",
    "plt.ylim([0.0, 1.05])\n",
    "plt.xlabel('False Positive Rate')\n",
    "plt.ylabel('True Positive Rate')\n",
    "plt.title('ROC Curve')\n",
    "plt.legend(loc=\"lower right\")\n",
    "plt.show()"
   ]
  },
  {
   "cell_type": "markdown",
   "metadata": {},
   "source": [
    "## Gain du projets du projets"
   ]
  },
  {
   "cell_type": "code",
   "execution_count": 35,
   "metadata": {},
   "outputs": [
    {
     "name": "stdout",
     "output_type": "stream",
     "text": [
      "Le nombre de churner est : 56850\n"
     ]
    }
   ],
   "source": [
    "#Nombre de churners\n",
    "print('Le nombre de churner est : %.0f'%target.sum())"
   ]
  },
  {
   "cell_type": "code",
   "execution_count": 36,
   "metadata": {},
   "outputs": [
    {
     "name": "stdout",
     "output_type": "stream",
     "text": [
      "Le nombre de churner identifié est : 40021\n"
     ]
    }
   ],
   "source": [
    "#Nombre de churner identifié\n",
    "churner_identified = (y_train & y_pred_train).sum() + (y_test & y_pred).sum()\n",
    "print('Le nombre de churner identifié est : %.0f'%churner_identified.sum())"
   ]
  },
  {
   "cell_type": "code",
   "execution_count": 37,
   "metadata": {},
   "outputs": [
    {
     "name": "stdout",
     "output_type": "stream",
     "text": [
      "Le nombre de churner identifié est : 20010\n"
     ]
    }
   ],
   "source": [
    "taux_recuperation = 0.5\n",
    "avoided_churner = churner_identified * taux_recuperation\n",
    "print('Le nombre de churner identifié est : %.0f'%avoided_churner.sum())"
   ]
  },
  {
   "cell_type": "code",
   "execution_count": 38,
   "metadata": {},
   "outputs": [
    {
     "name": "stdout",
     "output_type": "stream",
     "text": [
      "Le revenue perdu total est : 893351782\n"
     ]
    }
   ],
   "source": [
    "#Valeur de CA perdu à cause des churners\n",
    "revenue_loss = X_train[y_train].sales_net.sum() + X_test[y_test].sales_net.sum()\n",
    "print('Le revenue perdu total est : %.0f' %revenue_loss)"
   ]
  },
  {
   "cell_type": "code",
   "execution_count": 39,
   "metadata": {},
   "outputs": [
    {
     "name": "stdout",
     "output_type": "stream",
     "text": [
      "Le revenue perdu identifié est : 277918787\n"
     ]
    }
   ],
   "source": [
    "revenue_loss_identified = X_train[y_train & y_pred_train].sales_net.sum() + X_test[y_test & y_pred].sales_net.sum()\n",
    "print('Le revenue perdu identifié est : %.0f' %revenue_loss_identified)"
   ]
  },
  {
   "cell_type": "code",
   "execution_count": 40,
   "metadata": {},
   "outputs": [
    {
     "name": "stdout",
     "output_type": "stream",
     "text": [
      "Le revenu gagné est : 138959394\n"
     ]
    }
   ],
   "source": [
    "avoided_loss = taux_recuperation * revenue_loss_identified\n",
    "print('Le revenu gagné est : %.0f' %avoided_loss)"
   ]
  },
  {
   "cell_type": "markdown",
   "metadata": {},
   "source": [
    "# Comportement des acheteurs sur un subset de durée"
   ]
  },
  {
   "cell_type": "markdown",
   "metadata": {},
   "source": [
    "## Visualisation du comportement client"
   ]
  },
  {
   "cell_type": "code",
   "execution_count": 41,
   "metadata": {
    "scrolled": false
   },
   "outputs": [
    {
     "data": {
      "text/html": [
       "<div>\n",
       "<style scoped>\n",
       "    .dataframe tbody tr th:only-of-type {\n",
       "        vertical-align: middle;\n",
       "    }\n",
       "\n",
       "    .dataframe tbody tr th {\n",
       "        vertical-align: top;\n",
       "    }\n",
       "\n",
       "    .dataframe thead th {\n",
       "        text-align: right;\n",
       "    }\n",
       "</style>\n",
       "<table border=\"1\" class=\"dataframe\">\n",
       "  <thead>\n",
       "    <tr style=\"text-align: right;\">\n",
       "      <th></th>\n",
       "      <th>client_id</th>\n",
       "      <th>date_order</th>\n",
       "      <th>sales_net</th>\n",
       "      <th>quantity</th>\n",
       "      <th>number_of_products</th>\n",
       "      <th>delay_mean</th>\n",
       "      <th>delay_max</th>\n",
       "      <th>delay_number</th>\n",
       "      <th>channel</th>\n",
       "      <th>delay_bool</th>\n",
       "      <th>diff_previous_buy_days</th>\n",
       "      <th>diff_previous_buy_sales</th>\n",
       "    </tr>\n",
       "  </thead>\n",
       "  <tbody>\n",
       "    <tr>\n",
       "      <th>0</th>\n",
       "      <td>6.0</td>\n",
       "      <td>2017-11-29</td>\n",
       "      <td>204.12961</td>\n",
       "      <td>8.0</td>\n",
       "      <td>2.0</td>\n",
       "      <td>NaN</td>\n",
       "      <td>NaN</td>\n",
       "      <td>0.0</td>\n",
       "      <td>at the store</td>\n",
       "      <td>False</td>\n",
       "      <td>33.0</td>\n",
       "      <td>-1153.96019</td>\n",
       "    </tr>\n",
       "    <tr>\n",
       "      <th>1</th>\n",
       "      <td>6.0</td>\n",
       "      <td>2018-11-20</td>\n",
       "      <td>270.80200</td>\n",
       "      <td>20.0</td>\n",
       "      <td>4.0</td>\n",
       "      <td>NaN</td>\n",
       "      <td>NaN</td>\n",
       "      <td>0.0</td>\n",
       "      <td>at the store</td>\n",
       "      <td>False</td>\n",
       "      <td>194.0</td>\n",
       "      <td>-301.67114</td>\n",
       "    </tr>\n",
       "    <tr>\n",
       "      <th>2</th>\n",
       "      <td>6.0</td>\n",
       "      <td>2018-11-22</td>\n",
       "      <td>193.42080</td>\n",
       "      <td>3.0</td>\n",
       "      <td>1.0</td>\n",
       "      <td>NaN</td>\n",
       "      <td>NaN</td>\n",
       "      <td>0.0</td>\n",
       "      <td>at the store</td>\n",
       "      <td>False</td>\n",
       "      <td>2.0</td>\n",
       "      <td>-77.38120</td>\n",
       "    </tr>\n",
       "    <tr>\n",
       "      <th>3</th>\n",
       "      <td>6.0</td>\n",
       "      <td>2019-02-12</td>\n",
       "      <td>139.24200</td>\n",
       "      <td>3.0</td>\n",
       "      <td>1.0</td>\n",
       "      <td>NaN</td>\n",
       "      <td>NaN</td>\n",
       "      <td>0.0</td>\n",
       "      <td>at the store</td>\n",
       "      <td>False</td>\n",
       "      <td>33.0</td>\n",
       "      <td>-18.42423</td>\n",
       "    </tr>\n",
       "    <tr>\n",
       "      <th>4</th>\n",
       "      <td>6.0</td>\n",
       "      <td>2019-02-13</td>\n",
       "      <td>35.13480</td>\n",
       "      <td>6.0</td>\n",
       "      <td>2.0</td>\n",
       "      <td>NaN</td>\n",
       "      <td>NaN</td>\n",
       "      <td>0.0</td>\n",
       "      <td>at the store</td>\n",
       "      <td>False</td>\n",
       "      <td>1.0</td>\n",
       "      <td>-104.10720</td>\n",
       "    </tr>\n",
       "  </tbody>\n",
       "</table>\n",
       "</div>"
      ],
      "text/plain": [
       "   client_id date_order  sales_net  quantity  number_of_products  delay_mean  \\\n",
       "0        6.0 2017-11-29  204.12961       8.0                 2.0         NaN   \n",
       "1        6.0 2018-11-20  270.80200      20.0                 4.0         NaN   \n",
       "2        6.0 2018-11-22  193.42080       3.0                 1.0         NaN   \n",
       "3        6.0 2019-02-12  139.24200       3.0                 1.0         NaN   \n",
       "4        6.0 2019-02-13   35.13480       6.0                 2.0         NaN   \n",
       "\n",
       "   delay_max  delay_number       channel  delay_bool  diff_previous_buy_days  \\\n",
       "0        NaN           0.0  at the store       False                    33.0   \n",
       "1        NaN           0.0  at the store       False                   194.0   \n",
       "2        NaN           0.0  at the store       False                     2.0   \n",
       "3        NaN           0.0  at the store       False                    33.0   \n",
       "4        NaN           0.0  at the store       False                     1.0   \n",
       "\n",
       "   diff_previous_buy_sales  \n",
       "0              -1153.96019  \n",
       "1               -301.67114  \n",
       "2                -77.38120  \n",
       "3                -18.42423  \n",
       "4               -104.10720  "
      ]
     },
     "execution_count": 41,
     "metadata": {},
     "output_type": "execute_result"
    }
   ],
   "source": [
    "data_nonagg = feature_engineering_nonagg(data)\n",
    "data_nonagg.head()"
   ]
  },
  {
   "cell_type": "code",
   "execution_count": 42,
   "metadata": {},
   "outputs": [],
   "source": [
    "df = feature_eng(data_nonagg, label = False)\n",
    "df = df[df.volume > 2]"
   ]
  },
  {
   "cell_type": "code",
   "execution_count": 43,
   "metadata": {},
   "outputs": [
    {
     "data": {
      "image/png": "[encoded data removed]",
      "text/plain": [
       "<Figure size 720x720 with 1 Axes>"
      ]
     },
     "metadata": {
      "needs_background": "light"
     },
     "output_type": "display_data"
    }
   ],
   "source": [
    "plt.figure(figsize = (10, 10))\n",
    "sns.distplot(df.diff_previous_buy_days_max, bins = 200, label = 'Max') \n",
    "sns.distplot(df.diff_previous_buy_days_mean, bins = 200, label = 'Mean')\n",
    "plt.legend()\n",
    "plt.show()"
   ]
  },
  {
   "cell_type": "code",
   "execution_count": 44,
   "metadata": {},
   "outputs": [],
   "source": [
    "#Fonction de visualisation de la réparition des durée entre 2 achats pour différents clients\n",
    "#df non aggregated data (vision par panier)\n",
    "def plot_ecdf(df, n = 6):\n",
    "    client_id_list = np.random.choice(df.client_id.unique(), size = n)\n",
    "    for client in client_id_list:\n",
    "        ecdf = ECDF(df[df.client_id == client].diff_previous_buy_days.fillna(0), side = 'right')\n",
    "        plt.plot(ecdf.x, ecdf.y, label = int(client))\n",
    "    plt.xlabel('Durée entre 2 achats')\n",
    "    plt.ylabel('Fonction de répartition')\n",
    "    plt.legend()\n",
    "    plt.show()"
   ]
  },
  {
   "cell_type": "code",
   "execution_count": 45,
   "metadata": {},
   "outputs": [
    {
     "data": {
      "image/png": "[encoded data removed]",
      "text/plain": [
       "<Figure size 432x288 with 1 Axes>"
      ]
     },
     "metadata": {
      "needs_background": "light"
     },
     "output_type": "display_data"
    }
   ],
   "source": [
    "plot_ecdf(data_nonagg, n = 8)"
   ]
  }
 ],
 "metadata": {
  "kernelspec": {
   "display_name": "Python 3",
   "language": "python",
   "name": "python3"
  },
  "language_info": {
   "codemirror_mode": {
    "name": "ipython",
    "version": 3
   },
   "file_extension": ".py",
   "mimetype": "text/x-python",
   "name": "python",
   "nbconvert_exporter": "python",
   "pygments_lexer": "ipython3",
   "version": "3.7.6"
  },
  "toc": {
   "base_numbering": 1,
   "nav_menu": {},
   "number_sections": true,
   "sideBar": true,
   "skip_h1_title": false,
   "title_cell": "Table of Contents",
   "title_sidebar": "Contents",
   "toc_cell": false,
   "toc_position": {},
   "toc_section_display": true,
   "toc_window_display": false
  }
 },
 "nbformat": 4,
 "nbformat_minor": 2
}
